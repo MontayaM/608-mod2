{
 "cells": [
  {
   "cell_type": "code",
   "execution_count": 1,
   "id": "39ca5d8c-460c-42e4-a9f0-da53f7b78f05",
   "metadata": {},
   "outputs": [],
   "source": [
    "import statistics\n"
   ]
  },
  {
   "cell_type": "code",
   "execution_count": 2,
   "id": "ee2193b3-9039-4326-b0fe-39af477a0ef8",
   "metadata": {},
   "outputs": [],
   "source": [
    "DataA=[10,11,14,20,20,20,22,24,28,31]\n"
   ]
  },
  {
   "cell_type": "code",
   "execution_count": 3,
   "id": "122e1290-b8aa-4288-8406-0b3120099aa6",
   "metadata": {},
   "outputs": [],
   "source": [
    "DataB=[2,9,13,14,20,20,24,26,32,40]\n"
   ]
  },
  {
   "cell_type": "code",
   "execution_count": 4,
   "id": "41fffd28-a330-462f-99be-1906913161d8",
   "metadata": {},
   "outputs": [
    {
     "name": "stdout",
     "output_type": "stream",
     "text": [
      "DataB mode is 20\n",
      "DataB mean is 20\n",
      "DataB median is 20.0\n",
      "DataB mode is 20\n",
      "DataB mean is 20\n",
      "DataB median is 20.0\n"
     ]
    }
   ],
   "source": [
    "print(\"DataB mode is\", statistics.mode(DataA))\n",
    "print(\"DataB mean is\", statistics.mean(DataA))\n",
    "print(\"DataB median is\", statistics.median(DataA))\n",
    "print(\"DataB mode is\", statistics.mode(DataB))\n",
    "print(\"DataB mean is\", statistics.mean(DataB))\n",
    "print(\"DataB median is\", statistics.median(DataB))\n"
   ]
  },
  {
   "cell_type": "code",
   "execution_count": null,
   "id": "38e57c86-4ffd-42ff-b7d9-a136f4db78af",
   "metadata": {},
   "outputs": [],
   "source": []
  }
 ],
 "metadata": {
  "kernelspec": {
   "display_name": "Python 3",
   "language": "python",
   "name": "python3"
  },
  "language_info": {
   "codemirror_mode": {
    "name": "ipython",
    "version": 3
   },
   "file_extension": ".py",
   "mimetype": "text/x-python",
   "name": "python",
   "nbconvert_exporter": "python",
   "pygments_lexer": "ipython3",
   "version": "3.8.11"
  }
 },
 "nbformat": 4,
 "nbformat_minor": 5
}
