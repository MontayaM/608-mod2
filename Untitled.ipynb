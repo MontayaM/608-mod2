{
 "cells": [
  {
   "cell_type": "code",
   "execution_count": 87,
   "id": "f599be68-288d-442b-9a99-d69312d7ed78",
   "metadata": {},
   "outputs": [
    {
     "name": "stdout",
     "output_type": "stream",
     "text": [
      "3. The Mean of values =  79.16666666666667\n",
      "5. The Mode of values =  88\n",
      "1. The Count of 88 values =  2\n",
      "2. The Sum of values =  475\n",
      "3. The MEAN of values =  79.17\n",
      "4. The Median of values =  86.0\n"
     ]
    }
   ],
   "source": [
    "run  central-native.py "
   ]
  },
  {
   "cell_type": "code",
   "execution_count": 12,
   "id": "8bd3ed6c-3d1b-41de-8b3e-adb6d43a6bd9",
   "metadata": {},
   "outputs": [
    {
     "name": "stdout",
     "output_type": "stream",
     "text": [
      "1. The Count of 12 values =  6\n",
      "2. The Sum of values =  1614\n",
      "3. The MEAN of values =  16.14\n",
      "3. The Mean of values =  16.14\n",
      "4. The Median of values =  16.0\n",
      "5. The Mode of values =  15\n"
     ]
    }
   ],
   "source": [
    "run bonus.py"
   ]
  },
  {
   "cell_type": "code",
   "execution_count": null,
   "id": "3ceb6b22-d7ca-437f-9f93-8db74c2dc83d",
   "metadata": {},
   "outputs": [],
   "source": []
  }
 ],
 "metadata": {
  "kernelspec": {
   "display_name": "Python 3",
   "language": "python",
   "name": "python3"
  },
  "language_info": {
   "codemirror_mode": {
    "name": "ipython",
    "version": 3
   },
   "file_extension": ".py",
   "mimetype": "text/x-python",
   "name": "python",
   "nbconvert_exporter": "python",
   "pygments_lexer": "ipython3",
   "version": "3.8.11"
  }
 },
 "nbformat": 4,
 "nbformat_minor": 5
}
